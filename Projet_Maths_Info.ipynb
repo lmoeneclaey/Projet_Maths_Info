{
 "cells": [
  {
   "cell_type": "markdown",
   "metadata": {},
   "source": [
    "# Projet numérique de Mathématiques - Calcul Différentiel 2"
   ]
  },
  {
   "cell_type": "markdown",
   "metadata": {},
   "source": [
    "## Introduction"
   ]
  },
  {
   "cell_type": "markdown",
   "metadata": {},
   "source": [
    "On souhaite tracer les lignes de niveau d'une fonction à deux variables et à valeur réelle. C'est à dire trouver une partie significative des points de l'ensemble suivant:\n",
    "$\\{(x,y) \\in \\mathbf{R}^2 | f(x,y) = c\\} où c \\in \\mathbf{R}$"
   ]
  },
  {
   "cell_type": "markdown",
   "metadata": {},
   "source": [
    "## Contour simple"
   ]
  },
  {
   "cell_type": "markdown",
   "metadata": {},
   "source": [
    "### Amorce"
   ]
  },
  {
   "cell_type": "markdown",
   "metadata": {},
   "source": [
    "Ici, on se place sur l'arrête gauche du cadre de tracé. On fixe alors $x = 0$ et on peut définir: $\\begin{array}{ccccc}\n",
    "g & : & \\mathbf{R} & \\to & \\mathbf{R} \\\\\n",
    " & & y & \\mapsto & f(0, y) \\\\\n",
    "\\end{array}$"
   ]
  },
  {
   "cell_type": "markdown",
   "metadata": {},
   "source": [
    "On sait que g est dérivable et de dérivée continue d'après les propriétés de différentiabilité de f. Ainsi, en utilisant le Théorème des valeurs intermédiaires, on a directement que si $g(0) \\leq c \\leq g(1)$ ou bien $g(1) \\leq c \\leq g(0)$, alors il existe $t \\in [0,1]$ tel que $g(t) = c$"
   ]
  },
  {
   "cell_type": "markdown",
   "metadata": {},
   "source": [
    "### Module "
   ]
  },
  {
   "cell_type": "markdown",
   "metadata": {},
   "source": [
    "Voici les modules utilisés dans le script:"
   ]
  },
  {
   "cell_type": "code",
   "execution_count": 4,
   "metadata": {},
   "outputs": [],
   "source": [
    "import autograd\n",
    "from autograd import numpy as np\n",
    "import math\n",
    "import matplotlib.pyplot as plt\n",
    "from mpl_toolkits.mplot3d import Axes3D\n",
    "from numpy import linalg"
   ]
  },
  {
   "cell_type": "markdown",
   "metadata": {},
   "source": [
    "### Fonction find_seed"
   ]
  },
  {
   "cell_type": "markdown",
   "metadata": {},
   "source": [
    "On utilise une méthode de dichotomie. En effet, on compare f évaluée en un point milieu par rapport à c pour continuer à valider la condition précédente. Et ainsi de suite jusqu'à arriver à un intervalle de taille suffisamment petite."
   ]
  },
  {
   "cell_type": "code",
   "execution_count": 5,
   "metadata": {},
   "outputs": [],
   "source": [
    "def find_seed(g,c=0,eps=2**(-26)):\n",
    "    '''Propose un t qui convient si c'est possible'''\n",
    "    a=0\n",
    "    b=1\n",
    "    if (g(a)-c)*(g(b)-c)>0:    #Si la condition précédente n'est pas vérifée\n",
    "        return None\n",
    "    while (b-a)>eps:    #Méthode dichotomique\n",
    "        t=(b+a)/2\n",
    "        if (g(a)-c)*(g(t)-c)<=0:\n",
    "            b=t\n",
    "        else:\n",
    "            a=t\n",
    "    return t"
   ]
  },
  {
   "cell_type": "markdown",
   "metadata": {},
   "source": [
    "### Propagation: simple_contour"
   ]
  },
  {
   "cell_type": "markdown",
   "metadata": {},
   "source": [
    "Tout d'abord, on se rapporte à des carrés de côtés unitaires et on suppose que la courbe entre par le côté gauche, de manière à trouver un premier point à tracer grâce à find_seed. Ensuite, on calcule le gradient de la fonction à l'aide de ce qui suit:"
   ]
  },
  {
   "cell_type": "code",
   "execution_count": 6,
   "metadata": {},
   "outputs": [],
   "source": [
    "def gradient(f,x,y):\n",
    "    '''Calcule le gradient de f en (x,y)'''\n",
    "    g=autograd.grad\n",
    "    return np.r_[g(f,0)(x,y),g(f,1)(x,y)]"
   ]
  },
  {
   "cell_type": "markdown",
   "metadata": {},
   "source": [
    "On en déduit un vecteur directeur de la droite tangente à la courbe bien orienté (grâce au deuxième if). On norme ce vecteur et on le multiplie par la distance delta maximale demandée."
   ]
  },
  {
   "cell_type": "code",
   "execution_count": 7,
   "metadata": {},
   "outputs": [],
   "source": [
    "def simple_contour(f,c=0,delta=0.01):\n",
    "    '''Donne les coordonnées demandées sur un cadre de côté unitaire'''\n",
    "    x=np.array([])\n",
    "    y=np.array([])\n",
    "    eps=2**(-26)\n",
    "    gamma = delta / math.sqrt(2)\n",
    "    def g(x):\n",
    "        return (f(0,x))\n",
    "    if find_seed(g,c)==None: #On initialise\n",
    "        return x,y\n",
    "    y = np.append(y, np.array([find_seed(g,c)]))\n",
    "\n",
    "    x = np.append(x, np.array([0]))\n",
    "\n",
    "    grad=gradient(f,x[-1],y[-1])\n",
    "    tang=[-grad[1],grad[0]]\n",
    "    print(tang)\n",
    "    if tang[0]<0: #Première orientation du vecteur\n",
    "        tang=[grad[1],-grad[0]]\n",
    "        while x[-1] <= 1 and y[-1] <= 1 and x[-1] >= 0 and y[-1] >= 0: #On reste dans le cadre\n",
    "            grad=gradient(f,x[-1],y[-1])\n",
    "            tang=[grad[1],-grad[0]]\n",
    "            norme=math.sqrt(tang[0]**2+tang[1]**2)\n",
    "            x = np.append(x, np.array(x[-1]+(delta*tang[0])/(norme))) #On rajoute les composantes pour obtenir le nouveau point\n",
    "            y = np.append(y, np.array(y[-1]+(delta*tang[1])/(norme)))\n",
    "    else: #Deuxième orientation du vecteur\n",
    "        tang=[-grad[1],grad[0]]\n",
    "        while x[-1] <= (1) and y[-1] <= (1) and x[-1] >= 0 and y[-1] >= 0:\n",
    "            grad=gradient(f,x[-1],y[-1])\n",
    "            tang=[-grad[1],grad[0]]\n",
    "            norme=math.sqrt(tang[0]**2+tang[1]**2)\n",
    "            x = np.append(x, np.array(x[-1]+(delta*tang[0])/(norme)))\n",
    "            y = np.append(y, np.array(y[-1]+(delta*tang[1])/(norme)))\n",
    "    return x,y"
   ]
  },
  {
   "cell_type": "markdown",
   "metadata": {},
   "source": [
    "#### Premier tracé: la fonction du sujet"
   ]
  },
  {
   "cell_type": "code",
   "execution_count": 8,
   "metadata": {},
   "outputs": [],
   "source": [
    "def f(x,y):\n",
    "    '''Fonction dont on veut tracer le graphe'''\n",
    "    return 2*( np.exp(-x**2-y**2)- np.exp(-(x-1)**2 - (y-1)**2))"
   ]
  },
  {
   "cell_type": "code",
   "execution_count": 9,
   "metadata": {},
   "outputs": [
    {
     "name": "stdout",
     "output_type": "stream",
     "text": [
      "[2.0895076707781244, -1.364410742138914]\n",
      "[2.0895076707781244, -1.364410742138914]\n"
     ]
    },
    {
     "data": {
      "image/png": "[encoded data removed]",
      "text/plain": [
       "<Figure size 432x288 with 1 Axes>"
      ]
     },
     "metadata": {
      "needs_background": "light"
     },
     "output_type": "display_data"
    }
   ],
   "source": [
    "plt.plot(simple_contour(f,0.5)[0],simple_contour(f,0.5)[1])\n",
    "plt.show()"
   ]
  },
  {
   "cell_type": "markdown",
   "metadata": {},
   "source": [
    "#### Deuxième tracé: fonction quadratique"
   ]
  },
  {
   "cell_type": "code",
   "execution_count": 10,
   "metadata": {},
   "outputs": [],
   "source": [
    "def h(x,y):\n",
    "    '''Fonction dont on veut tracer le graphe'''\n",
    "    return (x**2 + y**2)"
   ]
  },
  {
   "cell_type": "code",
   "execution_count": 11,
   "metadata": {},
   "outputs": [
    {
     "name": "stdout",
     "output_type": "stream",
     "text": [
      "[-1.4142135679721832, 0.0]\n",
      "[-1.4142135679721832, 0.0]\n"
     ]
    },
    {
     "data": {
      "image/png": "[encoded data removed]",
      "text/plain": [
       "<Figure size 432x288 with 1 Axes>"
      ]
     },
     "metadata": {
      "needs_background": "light"
     },
     "output_type": "display_data"
    }
   ],
   "source": [
    "plt.plot(simple_contour(h,0.5)[0],simple_contour(h,0.5)[1])\n",
    "plt.show()"
   ]
  },
  {
   "cell_type": "markdown",
   "metadata": {},
   "source": [
    "#### Optimisation"
   ]
  },
  {
   "cell_type": "markdown",
   "metadata": {},
   "source": [
    "Ainsi, on a une bonne approximation du point suivant qui respecte $\\textbf{en partie}$ les conditions de tracé.\n",
    "En effet, on utilise une méthode inspirée de la méthode d'Euler pour les équations différentielles, qui peut présenter un fort phénomène de dérive.\n",
    "Pour affiner le tracé précédent, on décide d'appliquer la méthode de Newton à une fonction $F$ de $\\mathbf{R}^2$ dans $\\mathbf{R}^2$ bien choisie:"
   ]
  },
  {
   "cell_type": "code",
   "execution_count": 12,
   "metadata": {},
   "outputs": [],
   "source": [
    "#def F(x, y, x0, y0, c, delta):\n",
    "#   '''Fonction F pour la méthode de Newton'''\n",
    "#   return np.array([f(x,y) - c, (x-x0)**2 + (y-y0)**2 - delta**2])"
   ]
  },
  {
   "cell_type": "markdown",
   "metadata": {},
   "source": [
    "$x_0$ et $y_0$ désignent alors les coordonnées du dernier point $\\textbf{précis}$."
   ]
  },
  {
   "cell_type": "markdown",
   "metadata": {},
   "source": [
    "On remplace donc la dérivée par la jacobienne:"
   ]
  },
  {
   "cell_type": "code",
   "execution_count": 13,
   "metadata": {},
   "outputs": [],
   "source": [
    "def J(F, x, y):\n",
    "    '''Jacobienne de F'''\n",
    "    j = autograd.jacobian\n",
    "    return np.c_[j(F, 0)(x, y), j(F, 1)(x, y)]"
   ]
  },
  {
   "cell_type": "markdown",
   "metadata": {},
   "source": [
    "On se base alors sur la formule suivante, inspirée d'un développement limité à l'ordre 1 pour passer d'un point n à un point (n+1):"
   ]
  },
  {
   "cell_type": "markdown",
   "metadata": {},
   "source": [
    "$\\begin{pmatrix} 0 \\\\ 0 \\end{pmatrix} = F \\begin{pmatrix} x_n \\\\ y_n \\end{pmatrix} + J_F \\begin{pmatrix} x_{(n+1)} - x_n \\\\ y_{(n+1)} - y_n \\end{pmatrix}$"
   ]
  },
  {
   "cell_type": "markdown",
   "metadata": {},
   "source": [
    "Donc"
   ]
  },
  {
   "cell_type": "markdown",
   "metadata": {},
   "source": [
    "$\\begin{pmatrix} x_{(n+1)} \\\\ y_{(n+1)} \\end{pmatrix} = \\begin{pmatrix} x_n \\\\ y_n \\end{pmatrix} - J_F ^{-1} F \\begin{pmatrix}  x_n  \\\\  y_n \\end{pmatrix}$"
   ]
  },
  {
   "cell_type": "code",
   "execution_count": 14,
   "metadata": {},
   "outputs": [],
   "source": [
    "def newton (F,pt):\n",
    "    '''Fonction qui éxecute la formule de Newton précédente'''\n",
    "    jacob = J(F, pt[0], pt[1])\n",
    "    try:\n",
    "        Inv = np.linalg.inv(jacob)  #On teste bien si la jacobienne est inversible\n",
    "    except:\n",
    "        return(pt) #Sinon, on ne modifie pas le point\n",
    "    pt_new = pt - np.dot(Inv, F(pt[0], pt[1])) #On applique la formule\n",
    "    while np.linalg.norm(pt_new - pt) > 2**(-26): #On itère jusqu'à avoir des points qui convergent vers le point fixe recherché\n",
    "        pt = pt_new\n",
    "        jacob = J(F, pt[0], pt[1])\n",
    "        try:\n",
    "            Inv = np.linalg.inv(jacob)\n",
    "        except:\n",
    "            return (pt)\n",
    "        pt_new = pt - np.dot(Inv, F(pt[0], pt[1]))\n",
    "    return (pt_new)"
   ]
  },
  {
   "cell_type": "markdown",
   "metadata": {},
   "source": [
    "### Nouvelle fonction: simple_contour optimisée"
   ]
  },
  {
   "cell_type": "code",
   "execution_count": 15,
   "metadata": {},
   "outputs": [],
   "source": [
    "def simple_contour_optimisee(f,c=0,delta=0.01):\n",
    "    '''Donne les coordonnées demandées sur un cadre de côté unitaire de manière optimisée'''\n",
    "    x=np.array([])\n",
    "    y=np.array([])\n",
    "    eps=2**(-26)\n",
    "    gamma = delta / math.sqrt(2)\n",
    "    def g(x):\n",
    "        return (f(0,x))\n",
    "    if find_seed(g,c)==None:\n",
    "        return x,y\n",
    "    y = np.append(y, np.array([find_seed(g,c)]))\n",
    "\n",
    "    x = np.append(x, np.array([0]))\n",
    "\n",
    "    grad=gradient(f,x[-1],y[-1])\n",
    "    tang=[-grad[1],grad[0]]\n",
    "    print(tang)\n",
    "    if tang[0]<0:\n",
    "        tang=[grad[1],-grad[0]]\n",
    "        while x[-1] <= 1 and y[-1] <= 1 and x[-1] >= 0 and y[-1] >= 0:\n",
    "            grad=gradient(f,x[-1],y[-1])\n",
    "            tang=[grad[1],-grad[0]]\n",
    "            norme=math.sqrt(tang[0]**2+tang[1]**2)\n",
    "            x = np.append(x, np.array(x[-1]+(delta*tang[0])/(norme)))\n",
    "            y = np.append(y, np.array(y[-1]+(delta*tang[1])/(norme)))\n",
    "            def F(X, Y): #On définit la fonction F pour les deux derniers points trouvés\n",
    "                return np.array([f(X,Y) - c, (X-x[-2])**2 + (Y-y[-2])**2 - delta**2])\n",
    "            res = newton(F, np.array([x[-1], y[-1]])) #On applique Newton\n",
    "            x[-1], y[-1] = res[0], res[1]\n",
    "    else:\n",
    "        tang=[-grad[1],grad[0]]\n",
    "        while x[-1] <= (1) and y[-1] <= (1) and x[-1] >= 0 and y[-1] >= 0:\n",
    "            grad=gradient(f,x[-1],y[-1])\n",
    "            tang=[-grad[1],grad[0]]\n",
    "            norme=math.sqrt(tang[0]**2+tang[1]**2)\n",
    "            x = np.append(x, np.array(x[-1]+(delta*tang[0])/(norme)))\n",
    "            y = np.append(y, np.array(y[-1]+(delta*tang[1])/(norme)))\n",
    "            def F(X, Y):\n",
    "                return np.array([f(X,Y) - c, (X-x[-2])**2 + (Y-y[-2])**2 - delta**2])\n",
    "            res = newton(F, np.array([x[-1], y[-1]]))\n",
    "            x[-1], y[-1] = res[0], res[1]\n",
    "    return x,y"
   ]
  },
  {
   "cell_type": "markdown",
   "metadata": {},
   "source": [
    "## Contour complexe"
   ]
  },
  {
   "cell_type": "markdown",
   "metadata": {},
   "source": [
    "### Fonctions de rotation des carrés unitaires"
   ]
  },
  {
   "cell_type": "code",
   "execution_count": 16,
   "metadata": {},
   "outputs": [],
   "source": [
    "# Rotators\n",
    "# ------------------------------------------------------------------------------\n",
    "LEFT, UP, RIGHT, DOWN = 0, 1, 2, 3  # clockwise\n",
    "\n",
    "\n",
    "def rotate_direction(direction, n=1):\n",
    "    return (direction + n) % 4\n",
    "\n",
    "\n",
    "def rotate(x, y, n=1):\n",
    "    if n == 0:\n",
    "        return x, y\n",
    "    elif n >= 1:\n",
    "        return rotate(1 - y, x, n - 1)\n",
    "    else:\n",
    "        assert n < 0\n",
    "        return rotate(x, y, n=-3 * n)\n",
    "\n",
    "\n",
    "def rotate_function(f, n=1):\n",
    "    def rotated_function(x, y):\n",
    "        xr, yr = rotate(x, y, -n)\n",
    "        return f(xr, yr)\n",
    "\n",
    "    return rotated_function"
   ]
  },
  {
   "cell_type": "markdown",
   "metadata": {},
   "source": [
    "### Fonction contour"
   ]
  },
  {
   "cell_type": "code",
   "execution_count": 17,
   "metadata": {},
   "outputs": [],
   "source": [
    "# Complex Contouring\n",
    "# ------------------------------------------------------------------------------\n",
    "\n",
    "# Customize the simple_contour function used in contour :\n",
    "# simple_contour = smart_simple_contour\n",
    "\n",
    "\n",
    "def contour(f, c, xs=[0.0, 1.0], ys=[0.0, 1.0], delta=0.01):\n",
    "    curves = []\n",
    "    nx, ny = len(xs), len(ys)\n",
    "    for i in range(nx - 1):\n",
    "        for j in range(ny - 1):\n",
    "            xmin, xmax = xs[i], xs[i + 1]\n",
    "            ymin, ymax = ys[j], ys[j + 1]\n",
    "\n",
    "            def f_cell(x, y):\n",
    "                return f(xmin + (xmax - xmin) * x, ymin + (ymax - ymin) * y)\n",
    "\n",
    "            done = set()\n",
    "            for n in [0, 1, 2, 3]:\n",
    "                if n not in done:\n",
    "                    rotated_f_cell = rotate_function(f_cell, n)\n",
    "                    x_curve_r, y_curve_r = simple_contour_optimisee(rotated_f_cell, c, delta)\n",
    "                    exit = None\n",
    "                    if len(x_curve_r) >= 1:\n",
    "                        xf, yf = x_curve_r[-1], y_curve_r[-1]\n",
    "                        if xf == 0.0:\n",
    "                            exit = LEFT\n",
    "                        elif xf == 1.0:\n",
    "                            exit = RIGHT\n",
    "                        elif yf == 0.0:\n",
    "                            exit = DOWN\n",
    "                        elif yf == 1.0:\n",
    "                            exit = UP\n",
    "                    if exit is not None:  # a fully successful contour fragment\n",
    "                        exit = rotate_direction(exit, n)\n",
    "                        done.add(exit)\n",
    "\n",
    "                    x_curve, y_curve = [], []\n",
    "                    for x_r, y_r in zip(x_curve_r, y_curve_r):\n",
    "                        x, y = rotate(x_r, y_r, n=-n)\n",
    "                        x_curve.append(x)\n",
    "                        y_curve.append(y)\n",
    "                    x_curve = np.array(x_curve)\n",
    "                    y_curve = np.array(y_curve)\n",
    "                    curves.append(\n",
    "                        (xmin + (xmax - xmin) * x_curve, ymin + (ymax - ymin) * y_curve)\n",
    "                    )\n",
    "    return curves"
   ]
  },
  {
   "cell_type": "markdown",
   "metadata": {},
   "source": [
    "### Tracés finaux"
   ]
  },
  {
   "cell_type": "code",
   "execution_count": 18,
   "metadata": {},
   "outputs": [
    {
     "name": "stdout",
     "output_type": "stream",
     "text": [
      "[0.026951785586664317, 0.026951787996341847]\n",
      "[-0.026951790406019565, 0.026951787996341847]\n",
      "[9.041318975185604e-06, -9.041317627924193e-06]\n",
      "[9.041318975185604e-06, 9.041317627924193e-06]\n",
      "[-0.026951785586664317, 0.026951787996341847]\n",
      "[-0.026951785586664317, -0.026951787996341847]\n",
      "[1.471517720831122, 1.471517764685769]\n",
      "[-1.471517808540416, 1.471517764685769]\n",
      "[0.026951790406019565, -0.026951787996341847]\n",
      "[0.026951790406019565, 0.026951787996341847]\n",
      "[-1.471517720831122, 1.471517764685769]\n",
      "[-1.471517720831122, -1.471517764685769]\n",
      "[0.026951785586664317, -0.026951787996341847]\n",
      "[-0.026951790406019565, -0.026951787996341847]\n",
      "[1.471517808540416, 1.471517764685769]\n",
      "[-1.471517720831122, 1.471517764685769]\n",
      "[1.471517808540416, -1.471517764685769]\n",
      "[1.471517808540416, 1.471517764685769]\n",
      "[-1.471517808540416, 1.471517764685769]\n",
      "[-1.471517808540416, -1.471517764685769]\n",
      "[1.471517720831122, -1.471517764685769]\n",
      "[-1.471517808540416, -1.471517764685769]\n",
      "[0.026951790406019565, 0.026951787996341847]\n",
      "[-0.026951785586664317, 0.026951787996341847]\n",
      "[1.471517720831122, -1.471517764685769]\n",
      "[1.471517720831122, 1.471517764685769]\n",
      "[-0.026951790406019565, 0.026951787996341847]\n",
      "[-0.026951790406019565, -0.026951787996341847]\n",
      "[1.471517808540416, -1.471517764685769]\n",
      "[-1.471517720831122, -1.471517764685769]\n",
      "[0.026951785586664317, -0.026951787996341847]\n",
      "[0.026951785586664317, 0.026951787996341847]\n",
      "[-9.041318975185604e-06, 9.041317627924193e-06]\n",
      "[-9.041318975185604e-06, -9.041317627924193e-06]\n",
      "[0.026951790406019565, -0.026951787996341847]\n",
      "[-0.026951785586664317, -0.026951787996341847]\n",
      "[-1.1586855762158592, 0.013159432336112336]\n",
      "[0.6118531867166189, -0.9946415252151805]\n",
      "[-0.6329103996427273, -0.9390049412605672]\n",
      "[1.1586855762158592, -0.013159432336112336]\n",
      "[-0.6118531867166189, -0.9946415252151805]\n",
      "[1.1586855762158592, 0.013159432336112336]\n",
      "[-0.6118531867166189, 0.9946415252151805]\n",
      "[0.6118531867166189, 0.9946415252151805]\n",
      "[0.6329103996427273, 0.9390049412605672]\n",
      "[-2.0895076707781244, 1.364410742138914]\n",
      "[-1.1586855762158592, -0.013159432336112336]\n",
      "[0.6329103996427273, -0.9390049412605672]\n",
      "[2.0895076707781244, 1.364410742138914]\n",
      "[-0.6329103996427273, 0.9390049412605672]\n",
      "[2.0895076707781244, -1.364410742138914]\n",
      "[-2.0895076707781244, -1.364410742138914]\n",
      "[-1.2919560029013206, 0.16231603286433532]\n",
      "[1.2919560029013206, 0.16231603286433532]\n",
      "[-1.4755527394272725, 0.8051604830556266]\n",
      "[1.2919560029013206, -0.16231603286433532]\n",
      "[-1.2919560029013206, -0.16231603286433532]\n",
      "[1.4755527394272725, 0.8051604830556266]\n",
      "[1.4755527394272725, -0.8051604830556266]\n",
      "[-1.4755527394272725, -0.8051604830556266]\n",
      "[-1.5782659146961822, 0.05433171949866552]\n",
      "[1.5782659146961822, 0.05433171949866552]\n",
      "[-2.1231991396055703, 1.1376875055427813]\n",
      "[1.5782659146961822, -0.05433171949866552]\n",
      "[-1.5782659146961822, -0.05433171949866552]\n",
      "[2.1231991396055703, 1.1376875055427813]\n",
      "[2.1231991396055703, -1.1376875055427813]\n",
      "[-2.1231991396055703, -1.1376875055427813]\n",
      "[1.4755527394272725, 0.8051604830556266]\n",
      "[-1.4755527394272725, 0.8051604830556266]\n",
      "[1.2919560029013206, 0.16231603286433532]\n",
      "[-1.4755527394272725, -0.8051604830556266]\n",
      "[1.4755527394272725, -0.8051604830556266]\n",
      "[-1.2919560029013206, 0.16231603286433532]\n",
      "[-1.2919560029013206, -0.16231603286433532]\n",
      "[1.2919560029013206, -0.16231603286433532]\n",
      "[2.1231991396055703, 1.1376875055427813]\n",
      "[-2.1231991396055703, 1.1376875055427813]\n",
      "[1.5782659146961822, 0.05433171949866552]\n",
      "[-2.1231991396055703, -1.1376875055427813]\n",
      "[2.1231991396055703, -1.1376875055427813]\n",
      "[-1.5782659146961822, 0.05433171949866552]\n",
      "[-1.5782659146961822, -0.05433171949866552]\n",
      "[1.5782659146961822, -0.05433171949866552]\n",
      "[2.0895076707781244, 1.364410742138914]\n",
      "[-2.0895076707781244, 1.364410742138914]\n",
      "[0.6329103996427273, -0.9390049412605672]\n",
      "[-2.0895076707781244, -1.364410742138914]\n",
      "[1.1586855762158592, 0.013159432336112336]\n",
      "[-0.6329103996427273, 0.9390049412605672]\n",
      "[2.0895076707781244, -1.364410742138914]\n",
      "[-0.6329103996427273, -0.9390049412605672]\n",
      "[-0.6118531867166189, -0.9946415252151805]\n",
      "[0.6118531867166189, -0.9946415252151805]\n",
      "[-1.1586855762158592, -0.013159432336112336]\n",
      "[0.6118531867166189, 0.9946415252151805]\n",
      "[0.6329103996427273, 0.9390049412605672]\n",
      "[-1.1586855762158592, 0.013159432336112336]\n",
      "[-0.6118531867166189, 0.9946415252151805]\n",
      "[1.1586855762158592, -0.013159432336112336]\n"
     ]
    },
    {
     "data": {
      "image/png": "[encoded data removed]",
      "text/plain": [
       "<Figure size 432x288 with 1 Axes>"
      ]
     },
     "metadata": {
      "needs_background": "light"
     },
     "output_type": "display_data"
    }
   ],
   "source": [
    "a = [0.0, 0.5, 1.5, 1.0, -1.5, -1.0, -0.5]\n",
    "for i in a:\n",
    "    resultats = contour(f, i,[-2.0,-1.0,0.0,1.0,2.0,3.0],[-2.0,-1.0,0.0,1.0,2.0,3.0])\n",
    "    for x, y in resultats:\n",
    "        plt.plot(x, y, i)\n",
    "plt.show()"
   ]
  },
  {
   "cell_type": "code",
   "execution_count": 19,
   "metadata": {},
   "outputs": [
    {
     "name": "stdout",
     "output_type": "stream",
     "text": [
      "[0.026951785586664317, 0.026951787996341847]\n",
      "[-0.026951790406019565, 0.026951787996341847]\n",
      "[1.471517720831122, 1.471517764685769]\n",
      "[-1.471517808540416, 1.471517764685769]\n",
      "[0.026951790406019565, -0.026951787996341847]\n",
      "[0.026951790406019565, 0.026951787996341847]\n",
      "[-1.471517720831122, 1.471517764685769]\n",
      "[-1.471517720831122, -1.471517764685769]\n",
      "[1.471517808540416, 1.471517764685769]\n",
      "[-1.471517720831122, 1.471517764685769]\n",
      "[1.471517808540416, -1.471517764685769]\n",
      "[1.471517808540416, 1.471517764685769]\n",
      "[-1.471517808540416, 1.471517764685769]\n",
      "[-1.471517808540416, -1.471517764685769]\n",
      "[1.471517720831122, -1.471517764685769]\n",
      "[-1.471517808540416, -1.471517764685769]\n",
      "[1.471517720831122, -1.471517764685769]\n",
      "[1.471517720831122, 1.471517764685769]\n",
      "[-0.026951790406019565, 0.026951787996341847]\n",
      "[-0.026951790406019565, -0.026951787996341847]\n",
      "[1.471517808540416, -1.471517764685769]\n",
      "[-1.471517720831122, -1.471517764685769]\n",
      "[0.026951790406019565, -0.026951787996341847]\n",
      "[-0.026951785586664317, -0.026951787996341847]\n",
      "[-1.1586855762158592, 0.013159432336112336]\n",
      "[0.6118531867166189, -0.9946415252151805]\n",
      "[-0.6329103996427273, -0.9390049412605672]\n",
      "[1.1586855762158592, -0.013159432336112336]\n",
      "[-0.6118531867166189, 0.9946415252151805]\n",
      "[0.6118531867166189, 0.9946415252151805]\n",
      "[0.6329103996427273, 0.9390049412605672]\n",
      "[-2.0895076707781244, 1.364410742138914]\n",
      "[2.0895076707781244, 1.364410742138914]\n",
      "[-0.6329103996427273, 0.9390049412605672]\n",
      "[2.0895076707781244, -1.364410742138914]\n",
      "[-2.0895076707781244, -1.364410742138914]\n",
      "[-1.2919560029013206, 0.16231603286433532]\n",
      "[1.2919560029013206, 0.16231603286433532]\n",
      "[-1.4755527394272725, 0.8051604830556266]\n",
      "[1.2919560029013206, -0.16231603286433532]\n",
      "[-1.2919560029013206, -0.16231603286433532]\n",
      "[1.4755527394272725, 0.8051604830556266]\n",
      "[1.4755527394272725, -0.8051604830556266]\n",
      "[-1.4755527394272725, -0.8051604830556266]\n",
      "[-1.5782659146961822, 0.05433171949866552]\n",
      "[1.5782659146961822, 0.05433171949866552]\n",
      "[-2.1231991396055703, 1.1376875055427813]\n",
      "[1.5782659146961822, -0.05433171949866552]\n",
      "[-1.5782659146961822, -0.05433171949866552]\n",
      "[2.1231991396055703, 1.1376875055427813]\n",
      "[2.1231991396055703, -1.1376875055427813]\n",
      "[-2.1231991396055703, -1.1376875055427813]\n",
      "[1.4755527394272725, 0.8051604830556266]\n",
      "[-1.4755527394272725, 0.8051604830556266]\n",
      "[1.2919560029013206, 0.16231603286433532]\n",
      "[-1.4755527394272725, -0.8051604830556266]\n",
      "[1.4755527394272725, -0.8051604830556266]\n",
      "[-1.2919560029013206, 0.16231603286433532]\n",
      "[-1.2919560029013206, -0.16231603286433532]\n",
      "[1.2919560029013206, -0.16231603286433532]\n",
      "[2.1231991396055703, 1.1376875055427813]\n",
      "[-2.1231991396055703, 1.1376875055427813]\n",
      "[1.5782659146961822, 0.05433171949866552]\n",
      "[-2.1231991396055703, -1.1376875055427813]\n",
      "[2.1231991396055703, -1.1376875055427813]\n",
      "[-1.5782659146961822, 0.05433171949866552]\n",
      "[-1.5782659146961822, -0.05433171949866552]\n",
      "[1.5782659146961822, -0.05433171949866552]\n",
      "[2.0895076707781244, 1.364410742138914]\n",
      "[-2.0895076707781244, 1.364410742138914]\n",
      "[0.6329103996427273, -0.9390049412605672]\n",
      "[-2.0895076707781244, -1.364410742138914]\n",
      "[2.0895076707781244, -1.364410742138914]\n",
      "[-0.6329103996427273, -0.9390049412605672]\n",
      "[-0.6118531867166189, -0.9946415252151805]\n",
      "[0.6118531867166189, -0.9946415252151805]\n",
      "[0.6329103996427273, 0.9390049412605672]\n",
      "[-1.1586855762158592, 0.013159432336112336]\n",
      "[-0.6118531867166189, 0.9946415252151805]\n",
      "[1.1586855762158592, -0.013159432336112336]\n"
     ]
    },
    {
     "data": {
      "image/png": "[encoded data removed]",
      "text/plain": [
       "<Figure size 432x288 with 1 Axes>"
      ]
     },
     "metadata": {
      "needs_background": "light"
     },
     "output_type": "display_data"
    }
   ],
   "source": [
    "a = [0.0, 0.5, 1.5, 1.0, -1.5, -1.0, -0.5]\n",
    "\n",
    "\n",
    "p = np.linspace(-2,3,100)\n",
    "q =  np.linspace(-1,2,100)\n",
    "\n",
    "X, Y = np.meshgrid(p,q)\n",
    "\n",
    "Z = f(X,Y)\n",
    "\n",
    "fig = plt.figure() \n",
    " \n",
    "ax = Axes3D(fig)\n",
    "ax.plot_surface(X, Y, Z, cmap='coolwarm'); #On trace le graphe de la fonction\n",
    "for i in a: #On trace différentes lignes de niveau en noir\n",
    "    resultats = contour(f, i,[-2.0,-1.0,0.0,1.0,2.0,3.0],[-1.0,0.0,1.0,2.0])\n",
    "    for x, y in resultats:\n",
    "        ax.plot(x, y,i, color = 'black')\n",
    "\n",
    "plt.show()"
   ]
  },
  {
   "cell_type": "markdown",
   "metadata": {},
   "source": [
    "## Autres pistes"
   ]
  },
  {
   "cell_type": "markdown",
   "metadata": {},
   "source": [
    "Nous avons tenté d'utiliser find_seed en le translatant de $\\Delta x$ par rapport à x, $\\Delta x$ étant suffisemment petit pour respecter les conditions de tracé:"
   ]
  },
  {
   "cell_type": "code",
   "execution_count": 16,
   "metadata": {},
   "outputs": [],
   "source": [
    "def simple_contour_essai(f,c=0,delta=0.01):\n",
    "    x=[]\n",
    "    y=[]\n",
    "    x0=0\n",
    "    g=lambda x:f(x0,x)\n",
    "    if find_seed(g,c)==None:\n",
    "        return x,y\n",
    "    y.append(find_seed(g,c))\n",
    "    x.append(0)\n",
    "    y0=y[0]\n",
    "    while x0<1 and 0<y[-1]<1 : #On pensait que la courbe ne pouvait pas faire demi-tour\n",
    "        pas=0.005\n",
    "        x1=x0+pas #On décale de pas selon x\n",
    "        g=lambda x:f(x1,x)\n",
    "        temps=find_seed(g,c)\n",
    "        while pas**2+(temps-y0)**2>delta**2:\n",
    "            pas=pas/2 #Si cela ne marche pas, on divise le pas pour moins se déplacer\n",
    "            x1=x0+pas\n",
    "            g=lambda x:f(x1,x)\n",
    "            temps=find_seed(g,c) #On réutilise find_seed jusqu'à être satisfait\n",
    "        x.append(x1)\n",
    "        x0=x1\n",
    "        y.append(temps)\n",
    "    return x,y "
   ]
  },
  {
   "cell_type": "markdown",
   "metadata": {},
   "source": [
    "Nous avons également tenté de parcourir un cercle de rayon delta autour du dernier point. En découpant ce cercle en un grand nombre de points (grosse complexité), on voulait arriver à trouver le point. On utilise donc le principe de dichotomie angulaire, malheureusement, nous avons été déconseillé de réaliser cela rapidement:"
   ]
  },
  {
   "cell_type": "code",
   "execution_count": 17,
   "metadata": {},
   "outputs": [
    {
     "ename": "SyntaxError",
     "evalue": "invalid syntax (<ipython-input-17-64f1838ebb5e>, line 8)",
     "output_type": "error",
     "traceback": [
      "\u001b[1;36m  File \u001b[1;32m\"<ipython-input-17-64f1838ebb5e>\"\u001b[1;36m, line \u001b[1;32m8\u001b[0m\n\u001b[1;33m    if f()...\u001b[0m\n\u001b[1;37m            ^\u001b[0m\n\u001b[1;31mSyntaxError\u001b[0m\u001b[1;31m:\u001b[0m invalid syntax\n"
     ]
    }
   ],
   "source": [
    "def dichoang(f,x,y,delta,eps=2**(-26)): #Programme non abouti et très peu développé car le nombre de point sur le cercle aurait été trop important pour avoir une complexité cohérente.\n",
    "    g=grad(f,x,y)\n",
    "    t=[-g[1],g[0]]\n",
    "    a=-math.pi\n",
    "    b=math.pi\n",
    "    while (b-a)>eps:\n",
    "        c=(a+b)/2\n",
    "        if f()..."
   ]
  },
  {
   "cell_type": "markdown",
   "metadata": {},
   "source": [
    "### Remarques"
   ]
  },
  {
   "cell_type": "markdown",
   "metadata": {},
   "source": [
    "Au niveau de la complexité, comme les fonctions sont régulières, et que l'on avance d'une distance delta entre deux points, aucun programme n'explose en temps de réalisation. Le fait d'utiliser la bibliothèque numpy aide notamment à réduire les coûts d'utilisation des listes ainsi que de calcul pour le gradient et la jacobienne."
   ]
  }
 ],
 "metadata": {
  "kernelspec": {
   "display_name": "Python 3",
   "language": "python",
   "name": "python3"
  },
  "language_info": {
   "codemirror_mode": {
    "name": "ipython",
    "version": 3
   },
   "file_extension": ".py",
   "mimetype": "text/x-python",
   "name": "python",
   "nbconvert_exporter": "python",
   "pygments_lexer": "ipython3",
   "version": "3.7.3"
  }
 },
 "nbformat": 4,
 "nbformat_minor": 2
}
