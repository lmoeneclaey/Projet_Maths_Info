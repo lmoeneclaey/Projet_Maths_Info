{
 "cells": [
  {
   "cell_type": "markdown",
   "metadata": {},
   "source": [
    "# Projet numérique de Mathématiques - Calcul Différentiel 2"
   ]
  },
  {
   "cell_type": "markdown",
   "metadata": {},
   "source": [
    "## Introduction"
   ]
  },
  {
   "cell_type": "markdown",
   "metadata": {},
   "source": [
    "On souhaite tracer les lignes de niveau d'une fonction à deux variables et à valeur réelle. C'est à dire trouver une partie significative des points de l'ensemble suivant:\n",
    "$\\{(x,y) \\in \\mathbf{R}^2 | f(x,y) = c\\} où c \\in \\mathbf{R}$"
   ]
  },
  {
   "cell_type": "markdown",
   "metadata": {},
   "source": [
    "## Contour simple"
   ]
  },
  {
   "cell_type": "markdown",
   "metadata": {},
   "source": [
    "### Amorce"
   ]
  },
  {
   "cell_type": "markdown",
   "metadata": {},
   "source": [
    "Ici, on se place sur l'arrête gauche du cadre de tracé. On fixe alors $x = 0$ et on peut définir: $\\begin{array}{ccccc}\n",
    "g & : & \\mathbf{R} & \\to & \\mathbf{R} \\\\\n",
    " & & y & \\mapsto & f(0, y) \\\\\n",
    "\\end{array}$"
   ]
  },
  {
   "cell_type": "markdown",
   "metadata": {},
   "source": [
    "On sait que g est dérivable et de dérivée continue d'après les propriétés de différentiabilité de f. Ainsi, en utilisant le Théorème des valeurs intermédiaires, on a directement que si $g(0) \\leq c \\leq g(1)$ ou bien $g(1) \\leq c \\leq g(0)$, alors il existe $t \\in [0,1]$ tel que $g(t) = c$"
   ]
  },
  {
   "cell_type": "markdown",
   "metadata": {},
   "source": [
    "### Module "
   ]
  },
  {
   "cell_type": "markdown",
   "metadata": {},
   "source": [
    "Voici les modules utilisés dans le script:"
   ]
  },
  {
   "cell_type": "code",
   "execution_count": 1,
   "metadata": {},
   "outputs": [],
   "source": [
    "import autograd\n",
    "from autograd import numpy as np\n",
    "import math\n",
    "import matplotlib.pyplot as plt\n",
    "from mpl_toolkits.mplot3d import Axes3D"
   ]
  },
  {
   "cell_type": "markdown",
   "metadata": {},
   "source": [
    "### Fonction find_seed"
   ]
  },
  {
   "cell_type": "markdown",
   "metadata": {},
   "source": [
    "On utilise une méthode de dichotomie. En effet, on compare f évaluée en un point milieu par rapport à c pour continuer à valider la condition précédente. Et ainsi de suite jusqu'à arriver à un intervalle de taille suffisemment petite."
   ]
  },
  {
   "cell_type": "code",
   "execution_count": 3,
   "metadata": {},
   "outputs": [],
   "source": [
    "def find_seed(g,c=0,eps=2**(-26)):\n",
    "    '''Propose un t qui convient si c'est possible'''\n",
    "    a=0\n",
    "    b=1\n",
    "    if (g(a)-c)*(g(b)-c)>0:    #Si la condition précédente n'est pas vérifée\n",
    "        return None\n",
    "    while (b-a)>eps:    #Méthode dichotomique\n",
    "        t=(b+a)/2\n",
    "        if (g(a)-c)*(g(t)-c)<=0:\n",
    "            b=t\n",
    "        else:\n",
    "            a=t\n",
    "    return t"
   ]
  },
  {
   "cell_type": "markdown",
   "metadata": {},
   "source": [
    "### Propagation: simple_contour"
   ]
  },
  {
   "cell_type": "markdown",
   "metadata": {},
   "source": [
    "Tout d'abord, on se rapporte à des carrés de côtés unitaires et on suppose que la courbe entre par le côté gauche, de manière à trouver un premier point à tracer grâce à find_seed. Ensuite, on calcule le gradient de la fonction à l'aide ce qui suit:"
   ]
  },
  {
   "cell_type": "code",
   "execution_count": 9,
   "metadata": {},
   "outputs": [],
   "source": [
    "def gradient(f,x,y):\n",
    "    g=autograd.grad\n",
    "    return np.r_[g(f,0)(x,y),g(f,1)(x,y)]"
   ]
  },
  {
   "cell_type": "markdown",
   "metadata": {},
   "source": [
    "On en déduit un vecteur directeur de la droite tangente à la courbe bien orienté (grâce au deuxième if). On norme ce vecteur et on le multiplie par la distance delta maximale demandée."
   ]
  },
  {
   "cell_type": "code",
   "execution_count": 5,
   "metadata": {},
   "outputs": [],
   "source": [
    "def simple_contour(f,c=0,delta=0.01):\n",
    "    x=np.array([])\n",
    "    y=np.array([])\n",
    "    eps=2**(-26)\n",
    "    gamma = delta / math.sqrt(2)\n",
    "    def g(x):\n",
    "        return (f(0,x))\n",
    "    if find_seed(g,c)==None:\n",
    "        return x,y\n",
    "    y = np.append(y, np.array([find_seed(g,c)]))\n",
    "\n",
    "    x = np.append(x, np.array([0]))\n",
    "\n",
    "    grad=gradient(f,x[-1],y[-1])\n",
    "    tang=[-grad[1],grad[0]]\n",
    "    print(tang)\n",
    "    if tang[0]<0:\n",
    "        tang=[grad[1],-grad[0]]\n",
    "        while x[-1] <= 1 and y[-1] <= 1 and x[-1] >= 0 and y[-1] >= 0:\n",
    "            grad=gradient(f,x[-1],y[-1])\n",
    "            tang=[grad[1],-grad[0]]\n",
    "            norme=math.sqrt(tang[0]**2+tang[1]**2)\n",
    "            x = np.append(x, np.array(x[-1]+(delta*tang[0])/(norme)))\n",
    "            y = np.append(y, np.array(y[-1]+(delta*tang[1])/(norme)))\n",
    "    else:\n",
    "        tang=[-grad[1],grad[0]]\n",
    "        while x[-1] <= (1) and y[-1] <= (1) and x[-1] >= 0 and y[-1] >= 0:\n",
    "            grad=gradient(f,x[-1],y[-1])\n",
    "            tang=[-grad[1],grad[0]]\n",
    "            norme=math.sqrt(tang[0]**2+tang[1]**2)\n",
    "            x = np.append(x, np.array(x[-1]+(delta*tang[0])/(norme)))\n",
    "            y = np.append(y, np.array(y[-1]+(delta*tang[1])/(norme)))\n",
    "    return x,y"
   ]
  },
  {
   "cell_type": "markdown",
   "metadata": {},
   "source": [
    "#### Premier tracé: la fonction du sujet"
   ]
  },
  {
   "cell_type": "code",
   "execution_count": 11,
   "metadata": {},
   "outputs": [],
   "source": [
    "def f(x,y):\n",
    "    return 2*( np.exp(-x**2-y**2)- np.exp(-(x-1)**2 - (y-1)**2))"
   ]
  },
  {
   "cell_type": "code",
   "execution_count": 12,
   "metadata": {},
   "outputs": [
    {
     "name": "stdout",
     "output_type": "stream",
     "text": [
      "[2.0895076707781244, -1.364410742138914]\n",
      "[2.0895076707781244, -1.364410742138914]\n"
     ]
    },
    {
     "data": {
      "image/png": "[encoded data removed]",
      "text/plain": [
       "<Figure size 432x288 with 1 Axes>"
      ]
     },
     "metadata": {
      "needs_background": "light"
     },
     "output_type": "display_data"
    }
   ],
   "source": [
    "plt.plot(simple_contour(f,0.5,)[0],simple_contour(f,0.5,)[1])\n",
    "plt.show()"
   ]
  },
  {
   "cell_type": "markdown",
   "metadata": {},
   "source": [
    "#### Optimisation"
   ]
  },
  {
   "cell_type": "markdown",
   "metadata": {},
   "source": [
    "Ainsi, on a une bonne approximation du point suivant qui respecte en partie les conditions de tracé.\n",
    "En effet, on utilise une méthode inspirée de la méthode d'Euler pour les équations différentielles, qui peut présenter un fort phénomène de dérive.\n",
    "Pour affiner le tracé précédent, on décide d'appliquer la méthode de Newton à une fonction $F$ de $\\mathbf{R}^2$ dans $\\mathbf{R}^2$ bien choisie:"
   ]
  },
  {
   "cell_type": "code",
   "execution_count": 10,
   "metadata": {},
   "outputs": [],
   "source": [
    "def F(x, y, x0, y0, c, delta):\n",
    "    return np.array([f(x,y) - c, (x-x0)**2 + (y-y0)**2 - delta**2])"
   ]
  },
  {
   "cell_type": "markdown",
   "metadata": {},
   "source": [
    "On remplace alors la dérivée par la jacobienne:"
   ]
  },
  {
   "cell_type": "code",
   "execution_count": 7,
   "metadata": {},
   "outputs": [],
   "source": [
    "def J_F(x, y):\n",
    "    j = autograd.jacobian\n",
    "    return np.c_[j(F, 0)(x, y), j(F, 1)(x, y)]"
   ]
  },
  {
   "cell_type": "code",
   "execution_count": 8,
   "metadata": {},
   "outputs": [],
   "source": []
  },
  {
   "cell_type": "code",
   "execution_count": null,
   "metadata": {},
   "outputs": [],
   "source": []
  }
 ],
 "metadata": {
  "kernelspec": {
   "display_name": "Python 3",
   "language": "python",
   "name": "python3"
  },
  "language_info": {
   "codemirror_mode": {
    "name": "ipython",
    "version": 3
   },
   "file_extension": ".py",
   "mimetype": "text/x-python",
   "name": "python",
   "nbconvert_exporter": "python",
   "pygments_lexer": "ipython3",
   "version": "3.7.3"
  }
 },
 "nbformat": 4,
 "nbformat_minor": 2
}
